{
 "metadata": {
  "name": "",
  "signature": "sha256:08be3043e5abac48b2d6d560ec1c2cd7addc4284459c2235d0405a0e81e2808b"
 },
 "nbformat": 3,
 "nbformat_minor": 0,
 "worksheets": [
  {
   "cells": [
    {
     "cell_type": "code",
     "collapsed": false,
     "input": [
      "%matplotlib inline\n",
      "import matplotlib\n",
      "import pandas as pd\n",
      "import numpy as np\n",
      "from sklearn.preprocessing import LabelEncoder\n",
      "from sklearn.cross_validation import train_test_split\n",
      "from sklearn.ensemble import RandomForestClassifier \n",
      "from sklearn.metrics import log_loss\n",
      "from nolearn.lasagne import NeuralNet\n",
      "from lasagne.layers import DenseLayer\n",
      "from lasagne.layers import InputLayer\n",
      "from lasagne.layers import DropoutLayer\n",
      "from lasagne.updates import adagrad\n",
      "from lasagne.nonlinearities import softmax"
     ],
     "language": "python",
     "metadata": {},
     "outputs": [],
     "prompt_number": 1
    },
    {
     "cell_type": "code",
     "collapsed": false,
     "input": [
      "#FILES /Users/sverma/kaggle/otto/data\n",
      "\n",
      "X = pd.read_csv('/Users/sverma/kaggle/otto/data/train.csv')\n",
      "\n",
      "X = X.drop('id', axis=1)\n",
      "\n",
      "# Shuffle data. It is originally oredered by class, it's too easy ...\n",
      "X = X.reindex(np.random.permutation(X.index))\n",
      "\n",
      "# Extract target\n",
      "# Encode it to make it manageable by ML algo\n",
      "# Convert to np.int32 to make lasagne happy\n",
      "y = X.target.values\n",
      "encoder = LabelEncoder()\n",
      "y = encoder.fit_transform(y).astype(np.int32)\n",
      "\n",
      "# Remove target from train, else it's too easy ...\n",
      "X = X.drop('target', axis=1)\n",
      "\n",
      "num_classes = len(encoder.classes_)\n",
      "num_features = X.shape[1]\n",
      "\n",
      "# Convert to np.array to make lasagne happy\n",
      "X = np.array(X)\n"
     ],
     "language": "python",
     "metadata": {},
     "outputs": [],
     "prompt_number": 2
    },
    {
     "cell_type": "code",
     "collapsed": false,
     "input": [
      "#MODEL 1\n",
      "\n",
      "layers = [('input', InputLayer),\n",
      "           ('dense0', DenseLayer),\n",
      "           ('dropout0', DropoutLayer),\n",
      "           ('dense1', DenseLayer),\n",
      "           ('dropout1', DropoutLayer),\n",
      "           ('output', DenseLayer)]\n",
      "\n",
      "net1 = NeuralNet(layers=layers,\n",
      "                 input_shape=(None, num_features),\n",
      "                 dense0_num_units=512,\n",
      "                 dropout0_p=0.1,\n",
      "                 dense1_num_units=256,\n",
      "                 dropout1_p=0.1,\n",
      "                 output_num_units=num_classes,\n",
      "                 output_nonlinearity=softmax,\n",
      "                 update=adagrad,\n",
      "                 update_learning_rate=0.04,\n",
      "                 eval_size=0.2,\n",
      "                 verbose=1,\n",
      "                 max_epochs=15)\n",
      "net1.fit(X, y)"
     ],
     "language": "python",
     "metadata": {},
     "outputs": [
      {
       "output_type": "stream",
       "stream": "stdout",
       "text": [
        "# Neural Network with 181769 learnable parameters\n",
        "\n",
        "## Layer information\n",
        "\n",
        "  #  name        size\n",
        "---  --------  ------\n",
        "  0  input         93\n",
        "  1  dense0       512\n",
        "  2  dropout0     512\n",
        "  3  dense1       256\n",
        "  4  dropout1     256\n",
        "  5  output         9\n",
        "\n",
        "  epoch    train loss    valid loss    train/val    valid acc  dur\n",
        "-------  ------------  ------------  -----------  -----------  -----\n",
        "      1       \u001b[36m0.87339\u001b[0m       \u001b[32m0.56813\u001b[0m      1.53729      0.78110  6.03s"
       ]
      },
      {
       "output_type": "stream",
       "stream": "stdout",
       "text": [
        "\n",
        "      2       \u001b[36m0.54866\u001b[0m       \u001b[32m0.53279\u001b[0m      1.02978      0.79448  6.18s"
       ]
      },
      {
       "output_type": "stream",
       "stream": "stdout",
       "text": [
        "\n",
        "      3       \u001b[36m0.49839\u001b[0m       \u001b[32m0.51347\u001b[0m      0.97063      0.80113  6.13s"
       ]
      },
      {
       "output_type": "stream",
       "stream": "stdout",
       "text": [
        "\n",
        "      4       \u001b[36m0.46676\u001b[0m       \u001b[32m0.50120\u001b[0m      0.93129      0.80439  5.94s"
       ]
      },
      {
       "output_type": "stream",
       "stream": "stdout",
       "text": [
        "\n",
        "      5       \u001b[36m0.44087\u001b[0m       \u001b[32m0.49643\u001b[0m      0.88808      0.80655  6.13s"
       ]
      },
      {
       "output_type": "stream",
       "stream": "stdout",
       "text": [
        "\n",
        "      6       \u001b[36m0.41952\u001b[0m       \u001b[32m0.49272\u001b[0m      0.85144      0.81105  6.26s"
       ]
      },
      {
       "output_type": "stream",
       "stream": "stdout",
       "text": [
        "\n",
        "      7       \u001b[36m0.39807\u001b[0m       \u001b[32m0.49269\u001b[0m      0.80797      0.80844  5.98s"
       ]
      },
      {
       "output_type": "stream",
       "stream": "stdout",
       "text": [
        "\n",
        "      8       \u001b[36m0.38241\u001b[0m       0.49303      0.77563      0.81107  6.18s"
       ]
      },
      {
       "output_type": "stream",
       "stream": "stdout",
       "text": [
        "\n",
        "      9       \u001b[36m0.36338\u001b[0m       0.49820      0.72940      0.81242  6.19s"
       ]
      },
      {
       "output_type": "stream",
       "stream": "stdout",
       "text": [
        "\n",
        "     10       \u001b[36m0.34935\u001b[0m       0.49636      0.70381      0.81397  6.16s"
       ]
      },
      {
       "output_type": "stream",
       "stream": "stdout",
       "text": [
        "\n",
        "     11       \u001b[36m0.33538\u001b[0m       0.50256      0.66735      0.81343  6.20s"
       ]
      },
      {
       "output_type": "stream",
       "stream": "stdout",
       "text": [
        "\n",
        "     12       \u001b[36m0.32370\u001b[0m       0.50884      0.63616      0.81430  5.93s"
       ]
      },
      {
       "output_type": "stream",
       "stream": "stdout",
       "text": [
        "\n",
        "     13       \u001b[36m0.30912\u001b[0m       0.51201      0.60374      0.81349  6.00s"
       ]
      },
      {
       "output_type": "stream",
       "stream": "stdout",
       "text": [
        "\n",
        "     14       \u001b[36m0.30006\u001b[0m       0.51450      0.58321      0.81558  5.86s"
       ]
      },
      {
       "output_type": "stream",
       "stream": "stdout",
       "text": [
        "\n",
        "     15       \u001b[36m0.28837\u001b[0m       0.52342      0.55092      0.81375  6.04s"
       ]
      },
      {
       "output_type": "stream",
       "stream": "stdout",
       "text": [
        "\n"
       ]
      },
      {
       "output_type": "stream",
       "stream": "stderr",
       "text": [
        "/Users/sverma/anaconda/lib/python2.7/site-packages/Lasagne-0.1dev-py2.7.egg/lasagne/init.py:86: UserWarning: The uniform initializer no longer uses Glorot et al.'s approach to determine the bounds, but defaults to the range (-0.01, 0.01) instead. Please use the new GlorotUniform initializer to get the old behavior. GlorotUniform is now the default for all layers.\n",
        "  warnings.warn(\"The uniform initializer no longer uses Glorot et al.'s \"\n",
        "/Users/sverma/anaconda/lib/python2.7/site-packages/Lasagne-0.1dev-py2.7.egg/lasagne/layers/helper.py:69: UserWarning: get_all_layers() has been changed to return layers in topological order. The former implementation is still available as get_all_layers_old(), but will be removed before the first release of Lasagne. To ignore this warning, use `warnings.filterwarnings('ignore', '.*topo.*')`.\n",
        "  warnings.warn(\"get_all_layers() has been changed to return layers in \"\n"
       ]
      },
      {
       "metadata": {},
       "output_type": "pyout",
       "prompt_number": 3,
       "text": [
        "NeuralNet(X_tensor_type=None,\n",
        "     batch_iterator_test=<nolearn.lasagne.base.BatchIterator object at 0x10c020290>,\n",
        "     batch_iterator_train=<nolearn.lasagne.base.BatchIterator object at 0x10bfd3890>,\n",
        "     custom_score=None, dense0_num_units=512, dense1_num_units=256,\n",
        "     dropout0_p=0.1, dropout1_p=0.1, eval_size=0.2, input_shape=(None, 93),\n",
        "     layers=[('input', <class 'lasagne.layers.input.InputLayer'>), ('dense0', <class 'lasagne.layers.dense.DenseLayer'>), ('dropout0', <class 'lasagne.layers.noise.DropoutLayer'>), ('dense1', <class 'lasagne.layers.dense.DenseLayer'>), ('dropout1', <class 'lasagne.layers.noise.DropoutLayer'>), ('output', <class 'lasagne.layers.dense.DenseLayer'>)],\n",
        "     loss=None, max_epochs=15, more_params={},\n",
        "     objective=<class 'lasagne.objectives.Objective'>,\n",
        "     objective_loss_function=<function categorical_crossentropy at 0x10b846050>,\n",
        "     on_epoch_finished=[<nolearn.lasagne.handlers.PrintLog instance at 0x10c026050>],\n",
        "     on_training_finished=[],\n",
        "     on_training_started=[<nolearn.lasagne.handlers.PrintLayerInfo instance at 0x10c029ef0>],\n",
        "     output_nonlinearity=<function softmax at 0x10bd17320>,\n",
        "     output_num_units=9, regression=False,\n",
        "     update=<function adagrad at 0x10bf76c08>, update_learning_rate=0.04,\n",
        "     use_label_encoder=False, verbose=1,\n",
        "     y_tensor_type=TensorType(int32, vector))"
       ]
      }
     ],
     "prompt_number": 3
    },
    {
     "cell_type": "code",
     "collapsed": false,
     "input": [
      "from matplotlib import pyplot\n",
      "valid_loss1 = np.array([i[\"valid_loss\"] for i in net1.train_history_])\n",
      "pyplot.plot(valid_loss1, linewidth=3, label=\"first attempt\")\n",
      "pyplot.grid()\n",
      "pyplot.legend()\n",
      "pyplot.xlabel(\"epoch\")\n",
      "pyplot.ylabel(\"validation loss\")\n",
      "pyplot.xlim(0, 40)\n",
      "pyplot.ylim(0.48, 0.6)\n",
      "pyplot.yscale(\"log\")\n",
      "pyplot.show()"
     ],
     "language": "python",
     "metadata": {},
     "outputs": [
      {
       "metadata": {},
       "output_type": "display_data",
       "png": "[encoded data removed]",
       "text": [
        "<matplotlib.figure.Figure at 0x10cd64b90>"
       ]
      }
     ],
     "prompt_number": 4
    },
    {
     "cell_type": "code",
     "collapsed": false,
     "input": [
      "net2 = NeuralNet(layers=layers,\n",
      "                 input_shape=(None, num_features),\n",
      "                 dense0_num_units=512,\n",
      "                 dropout0_p=0.4,\n",
      "                 dense1_num_units=256,\n",
      "                 dropout1_p=0.4,\n",
      "                 output_num_units=num_classes,\n",
      "                 output_nonlinearity=softmax,\n",
      "                 update=adagrad,\n",
      "                 update_learning_rate=0.04,\n",
      "                 eval_size=0.2,\n",
      "                 verbose=1,\n",
      "                 max_epochs=15)\n",
      "net2.fit(X, y)"
     ],
     "language": "python",
     "metadata": {},
     "outputs": [
      {
       "output_type": "stream",
       "stream": "stdout",
       "text": [
        "# Neural Network with 181769 learnable parameters\n",
        "\n",
        "## Layer information\n",
        "\n",
        "  #  name        size\n",
        "---  --------  ------\n",
        "  0  input         93\n",
        "  1  dense0       512\n",
        "  2  dropout0     512\n",
        "  3  dense1       256\n",
        "  4  dropout1     256\n",
        "  5  output         9\n",
        "\n",
        "  epoch    train loss    valid loss    train/val    valid acc  dur\n",
        "-------  ------------  ------------  -----------  -----------  -----\n",
        "      1       \u001b[36m0.91324\u001b[0m       \u001b[32m0.60458\u001b[0m      1.51054      0.76177  5.86s"
       ]
      },
      {
       "output_type": "stream",
       "stream": "stdout",
       "text": [
        "\n",
        "      2       \u001b[36m0.62638\u001b[0m       \u001b[32m0.56007\u001b[0m      1.11840      0.78194  6.08s"
       ]
      },
      {
       "output_type": "stream",
       "stream": "stdout",
       "text": [
        "\n",
        "      3       \u001b[36m0.58607\u001b[0m       \u001b[32m0.54208\u001b[0m      1.08115      0.78608  5.93s"
       ]
      },
      {
       "output_type": "stream",
       "stream": "stdout",
       "text": [
        "\n",
        "      4       \u001b[36m0.55292\u001b[0m       \u001b[32m0.52644\u001b[0m      1.05029      0.79457  5.90s"
       ]
      },
      {
       "output_type": "stream",
       "stream": "stdout",
       "text": [
        "\n",
        "      5       \u001b[36m0.53801\u001b[0m       \u001b[32m0.51835\u001b[0m      1.03793      0.79747  5.82s"
       ]
      },
      {
       "output_type": "stream",
       "stream": "stdout",
       "text": [
        "\n",
        "      6       \u001b[36m0.51889\u001b[0m       \u001b[32m0.50848\u001b[0m      1.02047      0.79916  5.83s"
       ]
      },
      {
       "output_type": "stream",
       "stream": "stdout",
       "text": [
        "\n",
        "      7       \u001b[36m0.50446\u001b[0m       \u001b[32m0.50463\u001b[0m      0.99967      0.79928  5.95s"
       ]
      },
      {
       "output_type": "stream",
       "stream": "stdout",
       "text": [
        "\n",
        "      8       \u001b[36m0.49197\u001b[0m       \u001b[32m0.50025\u001b[0m      0.98344      0.80258  5.91s"
       ]
      },
      {
       "output_type": "stream",
       "stream": "stdout",
       "text": [
        "\n",
        "      9       \u001b[36m0.48088\u001b[0m       \u001b[32m0.49337\u001b[0m      0.97468      0.80422  5.69s"
       ]
      },
      {
       "output_type": "stream",
       "stream": "stdout",
       "text": [
        "\n",
        "     10       \u001b[36m0.47223\u001b[0m       \u001b[32m0.49200\u001b[0m      0.95981      0.80596  5.70s"
       ]
      },
      {
       "output_type": "stream",
       "stream": "stdout",
       "text": [
        "\n",
        "     11       \u001b[36m0.46224\u001b[0m       \u001b[32m0.48797\u001b[0m      0.94727      0.80508  5.84s"
       ]
      },
      {
       "output_type": "stream",
       "stream": "stdout",
       "text": [
        "\n",
        "     12       \u001b[36m0.45562\u001b[0m       \u001b[32m0.48538\u001b[0m      0.93869      0.80991  5.86s"
       ]
      },
      {
       "output_type": "stream",
       "stream": "stdout",
       "text": [
        "\n",
        "     13       \u001b[36m0.44660\u001b[0m       \u001b[32m0.48379\u001b[0m      0.92312      0.80890  5.92s"
       ]
      },
      {
       "output_type": "stream",
       "stream": "stdout",
       "text": [
        "\n",
        "     14       \u001b[36m0.44028\u001b[0m       \u001b[32m0.48015\u001b[0m      0.91696      0.81015  5.95s"
       ]
      },
      {
       "output_type": "stream",
       "stream": "stdout",
       "text": [
        "\n",
        "     15       \u001b[36m0.43298\u001b[0m       0.48062      0.90089      0.80993  5.97s"
       ]
      },
      {
       "output_type": "stream",
       "stream": "stdout",
       "text": [
        "\n"
       ]
      },
      {
       "metadata": {},
       "output_type": "pyout",
       "prompt_number": 5,
       "text": [
        "NeuralNet(X_tensor_type=None,\n",
        "     batch_iterator_test=<nolearn.lasagne.base.BatchIterator object at 0x10c020290>,\n",
        "     batch_iterator_train=<nolearn.lasagne.base.BatchIterator object at 0x10bfd3890>,\n",
        "     custom_score=None, dense0_num_units=512, dense1_num_units=256,\n",
        "     dropout0_p=0.4, dropout1_p=0.4, eval_size=0.2, input_shape=(None, 93),\n",
        "     layers=[('input', <class 'lasagne.layers.input.InputLayer'>), ('dense0', <class 'lasagne.layers.dense.DenseLayer'>), ('dropout0', <class 'lasagne.layers.noise.DropoutLayer'>), ('dense1', <class 'lasagne.layers.dense.DenseLayer'>), ('dropout1', <class 'lasagne.layers.noise.DropoutLayer'>), ('output', <class 'lasagne.layers.dense.DenseLayer'>)],\n",
        "     loss=None, max_epochs=15, more_params={},\n",
        "     objective=<class 'lasagne.objectives.Objective'>,\n",
        "     objective_loss_function=<function categorical_crossentropy at 0x10b846050>,\n",
        "     on_epoch_finished=[<nolearn.lasagne.handlers.PrintLog instance at 0x10ccd7b48>],\n",
        "     on_training_finished=[],\n",
        "     on_training_started=[<nolearn.lasagne.handlers.PrintLayerInfo instance at 0x10cbca170>],\n",
        "     output_nonlinearity=<function softmax at 0x10bd17320>,\n",
        "     output_num_units=9, regression=False,\n",
        "     update=<function adagrad at 0x10bf76c08>, update_learning_rate=0.04,\n",
        "     use_label_encoder=False, verbose=1,\n",
        "     y_tensor_type=TensorType(int32, vector))"
       ]
      }
     ],
     "prompt_number": 5
    },
    {
     "cell_type": "code",
     "collapsed": false,
     "input": [
      "valid_loss1 = np.array([i[\"valid_loss\"] for i in net1.train_history_])\n",
      "valid_loss2 = np.array([i[\"valid_loss\"] for i in net2.train_history_])\n",
      "pyplot.plot(valid_loss1, linewidth=3, label=\"first attempt\")\n",
      "pyplot.plot(valid_loss2, linewidth=3, label=\"increased dropout\")\n",
      "pyplot.grid()\n",
      "pyplot.legend()\n",
      "pyplot.xlabel(\"epoch\")\n",
      "pyplot.ylabel(\"validation loss\")\n",
      "pyplot.xlim(0, 40)\n",
      "pyplot.ylim(0.48, 0.6)\n",
      "pyplot.yscale(\"log\")\n",
      "pyplot.show()"
     ],
     "language": "python",
     "metadata": {},
     "outputs": [
      {
       "metadata": {},
       "output_type": "display_data",
       "png": "[encoded data removed]",
       "text": [
        "<matplotlib.figure.Figure at 0x10f4b8690>"
       ]
      }
     ],
     "prompt_number": 6
    },
    {
     "cell_type": "code",
     "collapsed": false,
     "input": [
      "net3 = NeuralNet(layers=layers,\n",
      "                 input_shape=(None, num_features),\n",
      "                 dense0_num_units=512,\n",
      "                 dropout0_p=0.4,\n",
      "                 dense1_num_units=256,\n",
      "                 dropout1_p=0.4,\n",
      "                 output_num_units=num_classes,\n",
      "                 output_nonlinearity=softmax,\n",
      "                 update=adagrad,\n",
      "                 update_learning_rate=0.04,\n",
      "                 eval_size=0.2,\n",
      "                 verbose=1,\n",
      "                 max_epochs=40)\n",
      "net3.fit(X, y)\n",
      "valid_loss1 = np.array([i[\"valid_loss\"] for i in net1.train_history_])\n",
      "valid_loss3 = np.array([i[\"valid_loss\"] for i in net3.train_history_])\n",
      "pyplot.plot(valid_loss1, linewidth=3, label=\"first attempt\")\n",
      "pyplot.plot(valid_loss3, linewidth=3, label=\"increased dropout & epoch\")\n",
      "pyplot.grid()\n",
      "pyplot.legend()\n",
      "pyplot.xlabel(\"epoch\")\n",
      "pyplot.ylabel(\"validation loss\")\n",
      "pyplot.xlim(0, 40)\n",
      "pyplot.ylim(0.48, 0.6)\n",
      "pyplot.yscale(\"log\")\n",
      "pyplot.show()"
     ],
     "language": "python",
     "metadata": {},
     "outputs": [
      {
       "output_type": "stream",
       "stream": "stdout",
       "text": [
        "# Neural Network with 181769 learnable parameters\n",
        "\n",
        "## Layer information\n",
        "\n",
        "  #  name        size\n",
        "---  --------  ------\n",
        "  0  input         93\n",
        "  1  dense0       512\n",
        "  2  dropout0     512\n",
        "  3  dense1       256\n",
        "  4  dropout1     256\n",
        "  5  output         9\n",
        "\n",
        "  epoch    train loss    valid loss    train/val    valid acc  dur\n",
        "-------  ------------  ------------  -----------  -----------  -----\n",
        "      1       \u001b[36m0.90659\u001b[0m       \u001b[32m0.60570\u001b[0m      1.49676      0.76315  6.11s"
       ]
      },
      {
       "output_type": "stream",
       "stream": "stdout",
       "text": [
        "\n",
        "      2       \u001b[36m0.62128\u001b[0m       \u001b[32m0.55926\u001b[0m      1.11090      0.78026  5.94s"
       ]
      },
      {
       "output_type": "stream",
       "stream": "stdout",
       "text": [
        "\n",
        "      3       \u001b[36m0.58098\u001b[0m       \u001b[32m0.53838\u001b[0m      1.07912      0.79015  5.79s"
       ]
      },
      {
       "output_type": "stream",
       "stream": "stdout",
       "text": [
        "\n",
        "      4       \u001b[36m0.55501\u001b[0m       \u001b[32m0.52916\u001b[0m      1.04885      0.79410  6.07s"
       ]
      },
      {
       "output_type": "stream",
       "stream": "stdout",
       "text": [
        "\n",
        "      5       \u001b[36m0.53387\u001b[0m       \u001b[32m0.51463\u001b[0m      1.03739      0.79678  6.17s"
       ]
      },
      {
       "output_type": "stream",
       "stream": "stdout",
       "text": [
        "\n",
        "      6       \u001b[36m0.51916\u001b[0m       \u001b[32m0.50785\u001b[0m      1.02227      0.79990  6.09s"
       ]
      },
      {
       "output_type": "stream",
       "stream": "stdout",
       "text": [
        "\n",
        "      7       \u001b[36m0.50251\u001b[0m       \u001b[32m0.50043\u001b[0m      1.00415      0.80357  5.90s"
       ]
      },
      {
       "output_type": "stream",
       "stream": "stdout",
       "text": [
        "\n",
        "      8       \u001b[36m0.49311\u001b[0m       \u001b[32m0.49710\u001b[0m      0.99196      0.80436  5.99s"
       ]
      },
      {
       "output_type": "stream",
       "stream": "stdout",
       "text": [
        "\n",
        "      9       \u001b[36m0.47925\u001b[0m       \u001b[32m0.49531\u001b[0m      0.96759      0.80815  6.15s"
       ]
      },
      {
       "output_type": "stream",
       "stream": "stdout",
       "text": [
        "\n",
        "     10       \u001b[36m0.47103\u001b[0m       \u001b[32m0.48930\u001b[0m      0.96266      0.80742  5.97s"
       ]
      },
      {
       "output_type": "stream",
       "stream": "stdout",
       "text": [
        "\n",
        "     11       \u001b[36m0.46241\u001b[0m       \u001b[32m0.48827\u001b[0m      0.94703      0.80887  5.77s"
       ]
      },
      {
       "output_type": "stream",
       "stream": "stdout",
       "text": [
        "\n",
        "     12       \u001b[36m0.45376\u001b[0m       \u001b[32m0.48599\u001b[0m      0.93368      0.80989  6.09s"
       ]
      },
      {
       "output_type": "stream",
       "stream": "stdout",
       "text": [
        "\n",
        "     13       \u001b[36m0.44658\u001b[0m       \u001b[32m0.48217\u001b[0m      0.92619      0.81077  5.90s"
       ]
      },
      {
       "output_type": "stream",
       "stream": "stdout",
       "text": [
        "\n",
        "     14       \u001b[36m0.43865\u001b[0m       0.48405      0.90621      0.81174  5.88s"
       ]
      },
      {
       "output_type": "stream",
       "stream": "stdout",
       "text": [
        "\n",
        "     15       \u001b[36m0.43093\u001b[0m       \u001b[32m0.48198\u001b[0m      0.89409      0.81367  5.93s"
       ]
      },
      {
       "output_type": "stream",
       "stream": "stdout",
       "text": [
        "\n",
        "     16       \u001b[36m0.42558\u001b[0m       0.48205      0.88286      0.81269  5.92s"
       ]
      },
      {
       "output_type": "stream",
       "stream": "stdout",
       "text": [
        "\n",
        "     17       \u001b[36m0.41776\u001b[0m       \u001b[32m0.48138\u001b[0m      0.86783      0.81398  5.87s"
       ]
      },
      {
       "output_type": "stream",
       "stream": "stdout",
       "text": [
        "\n",
        "     18       \u001b[36m0.41464\u001b[0m       \u001b[32m0.47892\u001b[0m      0.86577      0.81298  6.08s"
       ]
      },
      {
       "output_type": "stream",
       "stream": "stdout",
       "text": [
        "\n",
        "     19       \u001b[36m0.40787\u001b[0m       0.48021      0.84935      0.81430  5.87s"
       ]
      },
      {
       "output_type": "stream",
       "stream": "stdout",
       "text": [
        "\n",
        "     20       \u001b[36m0.40376\u001b[0m       \u001b[32m0.47879\u001b[0m      0.84330      0.81455  6.20s"
       ]
      },
      {
       "output_type": "stream",
       "stream": "stdout",
       "text": [
        "\n",
        "     21       \u001b[36m0.39965\u001b[0m       0.47886      0.83459      0.81511  6.18s"
       ]
      },
      {
       "output_type": "stream",
       "stream": "stdout",
       "text": [
        "\n",
        "     22       \u001b[36m0.39481\u001b[0m       0.47998      0.82254      0.81724  5.98s"
       ]
      },
      {
       "output_type": "stream",
       "stream": "stdout",
       "text": [
        "\n",
        "     23       \u001b[36m0.38711\u001b[0m       0.48179      0.80350      0.81575  6.08s"
       ]
      },
      {
       "output_type": "stream",
       "stream": "stdout",
       "text": [
        "\n",
        "     24       0.38769       0.47939      0.80872      0.81732  6.00s"
       ]
      },
      {
       "output_type": "stream",
       "stream": "stdout",
       "text": [
        "\n",
        "     25       \u001b[36m0.38383\u001b[0m       0.48173      0.79677      0.81635  6.31s"
       ]
      },
      {
       "output_type": "stream",
       "stream": "stdout",
       "text": [
        "\n",
        "     26       \u001b[36m0.38084\u001b[0m       0.48314      0.78825      0.81700  5.88s"
       ]
      },
      {
       "output_type": "stream",
       "stream": "stdout",
       "text": [
        "\n",
        "     27       \u001b[36m0.37507\u001b[0m       0.48199      0.77817      0.81511  5.82s"
       ]
      },
      {
       "output_type": "stream",
       "stream": "stdout",
       "text": [
        "\n",
        "     28       \u001b[36m0.37264\u001b[0m       0.48400      0.76993      0.81527  5.64s"
       ]
      },
      {
       "output_type": "stream",
       "stream": "stdout",
       "text": [
        "\n",
        "     29       \u001b[36m0.36700\u001b[0m       0.48430      0.75780      0.81475  5.84s"
       ]
      },
      {
       "output_type": "stream",
       "stream": "stdout",
       "text": [
        "\n",
        "     30       \u001b[36m0.36430\u001b[0m       0.48704      0.74799      0.81499  5.85s"
       ]
      },
      {
       "output_type": "stream",
       "stream": "stdout",
       "text": [
        "\n",
        "     31       \u001b[36m0.36380\u001b[0m       0.48622      0.74822      0.81495  5.89s"
       ]
      },
      {
       "output_type": "stream",
       "stream": "stdout",
       "text": [
        "\n",
        "     32       \u001b[36m0.35963\u001b[0m       0.48599      0.74000      0.81612  5.65s"
       ]
      },
      {
       "output_type": "stream",
       "stream": "stdout",
       "text": [
        "\n",
        "     33       \u001b[36m0.35449\u001b[0m       0.48973      0.72384      0.81656  5.82s"
       ]
      },
      {
       "output_type": "stream",
       "stream": "stdout",
       "text": [
        "\n",
        "     34       \u001b[36m0.34951\u001b[0m       0.49010      0.71315      0.81669  5.82s"
       ]
      },
      {
       "output_type": "stream",
       "stream": "stdout",
       "text": [
        "\n",
        "     35       \u001b[36m0.34924\u001b[0m       0.49152      0.71054      0.81460  5.71s"
       ]
      },
      {
       "output_type": "stream",
       "stream": "stdout",
       "text": [
        "\n",
        "     36       \u001b[36m0.34807\u001b[0m       0.49550      0.70246      0.81657  5.63s"
       ]
      },
      {
       "output_type": "stream",
       "stream": "stdout",
       "text": [
        "\n",
        "     37       \u001b[36m0.34512\u001b[0m       0.49281      0.70031      0.81784  5.80s"
       ]
      },
      {
       "output_type": "stream",
       "stream": "stdout",
       "text": [
        "\n",
        "     38       \u001b[36m0.34054\u001b[0m       0.49200      0.69215      0.81588  5.70s"
       ]
      },
      {
       "output_type": "stream",
       "stream": "stdout",
       "text": [
        "\n",
        "     39       0.34056       0.49298      0.69082      0.81833  5.96s"
       ]
      },
      {
       "output_type": "stream",
       "stream": "stdout",
       "text": [
        "\n",
        "     40       \u001b[36m0.33958\u001b[0m       0.49494      0.68610      0.81899  5.69s"
       ]
      },
      {
       "output_type": "stream",
       "stream": "stdout",
       "text": [
        "\n"
       ]
      },
      {
       "metadata": {},
       "output_type": "display_data",
       "png": "[encoded data removed]",
       "text": [
        "<matplotlib.figure.Figure at 0x10c9f4050>"
       ]
      }
     ],
     "prompt_number": 7
    },
    {
     "cell_type": "code",
     "collapsed": false,
     "input": [
      "net4 = NeuralNet(layers=layers,inpuvalid_loss1 = np.array([i[\"valid_loss\"] for i in net1.train_history_])\n",
      "valid_loss3 = np.array([i[\"valid_loss\"] for i in net3.train_history_])\n",
      "valid_loss4 = np.array([i[\"valid_loss\"] for i in net4.train_history_])\n",
      "pyplot.plot(valid_loss1, linewidth=3, label=\"first attempt\")\n",
      "pyplot.plot(valid_loss3, linewidth=3, label=\"increased dropout & epoch\")\n",
      "pyplot.plot(valid_loss4, linewidth=3, label=\"increased neurons\")\n",
      "pyplot.grid()\n",
      "pyplot.legend()\n",
      "pyplot.xlabel(\"epoch\")\n",
      "pyplot.ylabel(\"validation loss\")\n",
      "pyplot.xlim(0, 40)\n",
      "pyplot.ylim(0.48, 0.6)\n",
      "pyplot.yscale(\"log\")\n",
      "pyplot.show()t_shape=(None, num_features),\n",
      "                 dense0_num_units=2000,\n",
      "                 dropout0_p=0.4,\n",
      "                 dense1_num_units=1000,\n",
      "                 dropout1_p=0.4,\n",
      "                 output_num_units=num_classes,\n",
      "                 output_nonlinearity=softmax,\n",
      "                 update=adagrad,\n",
      "                 update_learning_rate=0.04,\n",
      "                 eval_size=0.2,\n",
      "                 verbose=1,\n",
      "                 max_epochs=25)\n",
      "net4.fit(X, y)"
     ],
     "language": "python",
     "metadata": {},
     "outputs": [
      {
       "ename": "SyntaxError",
       "evalue": "invalid syntax (<ipython-input-9-3ad749fea900>, line 3)",
       "output_type": "pyerr",
       "traceback": [
        "\u001b[0;36m  File \u001b[0;32m\"<ipython-input-9-3ad749fea900>\"\u001b[0;36m, line \u001b[0;32m3\u001b[0m\n\u001b[0;31m    valid_loss3 = np.array([i[\"valid_loss\"] for i in net3.train_history_])\u001b[0m\n\u001b[0m              ^\u001b[0m\n\u001b[0;31mSyntaxError\u001b[0m\u001b[0;31m:\u001b[0m invalid syntax\n"
       ]
      }
     ],
     "prompt_number": 9
    },
    {
     "cell_type": "code",
     "collapsed": false,
     "input": [
      "valid_loss1 = np.array([i[\"valid_loss\"] for i in net1.train_history_])\n",
      "valid_loss3 = np.array([i[\"valid_loss\"] for i in net3.train_history_])\n",
      "valid_loss4 = np.array([i[\"valid_loss\"] for i in net4.train_history_])\n",
      "pyplot.plot(valid_loss1, linewidth=3, label=\"first attempt\")\n",
      "pyplot.plot(valid_loss3, linewidth=3, label=\"increased dropout & epoch\")\n",
      "pyplot.plot(valid_loss4, linewidth=3, label=\"increased neurons\")\n",
      "pyplot.grid()\n",
      "pyplot.legend()\n",
      "pyplot.xlabel(\"epoch\")\n",
      "pyplot.ylabel(\"validation loss\")\n",
      "pyplot.xlim(0, 40)\n",
      "pyplot.ylim(0.48, 0.6)\n",
      "pyplot.yscale(\"log\")\n",
      "pyplot.show()\n"
     ],
     "language": "python",
     "metadata": {},
     "outputs": []
    },
    {
     "cell_type": "code",
     "collapsed": false,
     "input": [
      "net5 = NeuralNet(layers=layers,\n",
      "                 input_shape=(None, num_features),\n",
      "                 dense0_num_units=2000,\n",
      "                 dropout0_p=0.4,\n",
      "                 dense1_num_units=1000,\n",
      "                 dropout1_p=0.4,\n",
      "                 output_num_units=num_classes,\n",
      "                 output_nonlinearity=softmax,\n",
      "                 update=adagrad,\n",
      "                 update_learning_rate=0.004,\n",
      "                 eval_size=0.2,\n",
      "                 verbose=1,\n",
      "                 max_epochs=25)\n",
      "net5.fit(X, y)\n",
      "valid_loss1 = np.array([i[\"valid_loss\"] for i in net1.train_history_])\n",
      "valid_loss3 = np.array([i[\"valid_loss\"] for i in net3.train_history_])\n",
      "valid_loss4 = np.array([i[\"valid_loss\"] for i in net4.train_history_])\n",
      "valid_loss5 = np.array([i[\"valid_loss\"] for i in net5.train_history_])\n",
      "pyplot.plot(valid_loss1, linewidth=3, label=\"first attempt\")\n",
      "pyplot.plot(valid_loss3, linewidth=3, label=\"increased dropout & epoch\")\n",
      "pyplot.plot(valid_loss4, linewidth=3, label=\"increased neurons\")\n",
      "pyplot.plot(valid_loss5, linewidth=3, label=\"decreased learning rate\")\n",
      "pyplot.grid()\n",
      "pyplot.legend()\n",
      "pyplot.xlabel(\"epoch\")\n",
      "pyplot.ylabel(\"validation loss\")\n",
      "pyplot.xlim(0, 40)\n",
      "pyplot.ylim(0.48, 0.6)\n",
      "pyplot.yscale(\"log\")\n",
      "pyplot.show()"
     ],
     "language": "python",
     "metadata": {},
     "outputs": [
      {
       "output_type": "stream",
       "stream": "stdout",
       "text": [
        "# Neural Network with 2198009 learnable parameters\n",
        "\n",
        "## Layer information\n",
        "\n",
        "  #  name        size\n",
        "---  --------  ------\n",
        "  0  input         93\n",
        "  1  dense0      2000\n",
        "  2  dropout0    2000\n",
        "  3  dense1      1000\n",
        "  4  dropout1    1000\n",
        "  5  output         9\n",
        "\n",
        "  epoch    train loss    valid loss    train/val    valid acc  dur\n",
        "-------  ------------  ------------  -----------  -----------  ------\n",
        "      1       \u001b[36m0.75600\u001b[0m       \u001b[32m0.59822\u001b[0m      1.26374      0.77697  34.85s"
       ]
      },
      {
       "output_type": "stream",
       "stream": "stdout",
       "text": [
        "\n",
        "      2       \u001b[36m0.60001\u001b[0m       \u001b[32m0.56272\u001b[0m      1.06626      0.78692  35.25s"
       ]
      },
      {
       "output_type": "stream",
       "stream": "stdout",
       "text": [
        "\n",
        "      3       \u001b[36m0.56652\u001b[0m       \u001b[32m0.54527\u001b[0m      1.03897      0.79249  34.74s"
       ]
      },
      {
       "output_type": "stream",
       "stream": "stdout",
       "text": [
        "\n",
        "      4       \u001b[36m0.54180\u001b[0m       \u001b[32m0.53175\u001b[0m      1.01890      0.79715  34.98s"
       ]
      },
      {
       "output_type": "stream",
       "stream": "stdout",
       "text": [
        "\n",
        "      5       \u001b[36m0.52467\u001b[0m       \u001b[32m0.52204\u001b[0m      1.00503      0.80022  38.09s"
       ]
      },
      {
       "output_type": "stream",
       "stream": "stdout",
       "text": [
        "\n",
        "      6       \u001b[36m0.51258\u001b[0m       \u001b[32m0.51573\u001b[0m      0.99389      0.80103  40.01s"
       ]
      },
      {
       "output_type": "stream",
       "stream": "stdout",
       "text": [
        "\n",
        "      7       \u001b[36m0.50038\u001b[0m       \u001b[32m0.51047\u001b[0m      0.98023      0.80465  39.37s"
       ]
      },
      {
       "output_type": "stream",
       "stream": "stdout",
       "text": [
        "\n",
        "      8       \u001b[36m0.49236\u001b[0m       \u001b[32m0.50717\u001b[0m      0.97080      0.80573  40.48s"
       ]
      },
      {
       "output_type": "stream",
       "stream": "stdout",
       "text": [
        "\n",
        "      9       \u001b[36m0.48314\u001b[0m       \u001b[32m0.50296\u001b[0m      0.96060      0.80610  41.41s"
       ]
      },
      {
       "output_type": "stream",
       "stream": "stdout",
       "text": [
        "\n",
        "     10       \u001b[36m0.47384\u001b[0m       \u001b[32m0.49987\u001b[0m      0.94792      0.80638  40.85s"
       ]
      },
      {
       "output_type": "stream",
       "stream": "stdout",
       "text": [
        "\n",
        "     11       \u001b[36m0.46696\u001b[0m       \u001b[32m0.49822\u001b[0m      0.93727      0.80594  42.89s"
       ]
      },
      {
       "output_type": "stream",
       "stream": "stdout",
       "text": [
        "\n",
        "     12       \u001b[36m0.46245\u001b[0m       \u001b[32m0.49562\u001b[0m      0.93308      0.80747  44.55s"
       ]
      },
      {
       "output_type": "stream",
       "stream": "stdout",
       "text": [
        "\n",
        "     13       \u001b[36m0.45792\u001b[0m       \u001b[32m0.49195\u001b[0m      0.93083      0.80868  44.68s"
       ]
      },
      {
       "output_type": "stream",
       "stream": "stdout",
       "text": [
        "\n",
        "     14       \u001b[36m0.44815\u001b[0m       \u001b[32m0.49117\u001b[0m      0.91242      0.80989  44.35s"
       ]
      },
      {
       "output_type": "stream",
       "stream": "stdout",
       "text": [
        "\n",
        "     15       \u001b[36m0.44476\u001b[0m       \u001b[32m0.48926\u001b[0m      0.90905      0.80973  47.05s"
       ]
      },
      {
       "output_type": "stream",
       "stream": "stdout",
       "text": [
        "\n",
        "     16       \u001b[36m0.44093\u001b[0m       \u001b[32m0.48767\u001b[0m      0.90416      0.81077  47.77s"
       ]
      },
      {
       "output_type": "stream",
       "stream": "stdout",
       "text": [
        "\n",
        "     17       \u001b[36m0.43448\u001b[0m       \u001b[32m0.48673\u001b[0m      0.89265      0.81118  45.51s"
       ]
      },
      {
       "output_type": "stream",
       "stream": "stdout",
       "text": [
        "\n",
        "     18       \u001b[36m0.42977\u001b[0m       \u001b[32m0.48542\u001b[0m      0.88534      0.81303  48.07s"
       ]
      },
      {
       "output_type": "stream",
       "stream": "stdout",
       "text": [
        "\n",
        "     19       \u001b[36m0.42582\u001b[0m       \u001b[32m0.48315\u001b[0m      0.88136      0.81274  47.95s"
       ]
      },
      {
       "output_type": "stream",
       "stream": "stdout",
       "text": [
        "\n",
        "     20       \u001b[36m0.42152\u001b[0m       \u001b[32m0.48304\u001b[0m      0.87264      0.81432  46.30s"
       ]
      },
      {
       "output_type": "stream",
       "stream": "stdout",
       "text": [
        "\n",
        "     21       \u001b[36m0.41782\u001b[0m       0.48333      0.86446      0.81348  49.06s"
       ]
      },
      {
       "output_type": "stream",
       "stream": "stdout",
       "text": [
        "\n",
        "     22       \u001b[36m0.41248\u001b[0m       \u001b[32m0.48195\u001b[0m      0.85584      0.81451  49.65s"
       ]
      },
      {
       "output_type": "stream",
       "stream": "stdout",
       "text": [
        "\n",
        "     23       \u001b[36m0.41129\u001b[0m       \u001b[32m0.48104\u001b[0m      0.85499      0.81464  47.16s"
       ]
      },
      {
       "output_type": "stream",
       "stream": "stdout",
       "text": [
        "\n",
        "     24       \u001b[36m0.40649\u001b[0m       \u001b[32m0.48026\u001b[0m      0.84639      0.81556  50.15s"
       ]
      },
      {
       "output_type": "stream",
       "stream": "stdout",
       "text": [
        "\n",
        "     25       \u001b[36m0.40359\u001b[0m       \u001b[32m0.48010\u001b[0m      0.84064      0.81575  50.22s"
       ]
      },
      {
       "output_type": "stream",
       "stream": "stdout",
       "text": [
        "\n"
       ]
      },
      {
       "metadata": {},
       "output_type": "display_data",
       "png": "[encoded data removed]",
       "text": [
        "<matplotlib.figure.Figure at 0x117c8c550>"
       ]
      }
     ],
     "prompt_number": 36
    },
    {
     "cell_type": "code",
     "collapsed": false,
     "input": [
      "\n",
      "Test=pd.read_csv('/Users/sverma/kaggle/otto/data/test.csv')\n",
      "print Test.shape\n",
      "print Test.columns\n",
      "idx=Test['id'].values\n",
      "print idx.shape\n",
      "Test=Test.drop(['id'],axis=1)\n",
      "print Test.shape\n",
      "output=net3.predict_proba(Test)\n",
      "print output.shape\n",
      "print output[1,:]\n",
      "submission = pd.DataFrame( output)\n",
      "\n",
      "submission.columns=[\"class_1\",\"class_2\",\"class_3\",\"class_4\",\"class_5\",\"class_6\",\"class_7\",\"class_8\",\"class_9\"]\n",
      "#preds= encoder.inverse_transform(output)\n",
      "submission.insert(0, \"id\", idx)\n",
      "submission.to_csv(\"/Users/sverma/kaggle/otto/nn1.csv\", index=False)"
     ],
     "language": "python",
     "metadata": {},
     "outputs": [
      {
       "output_type": "stream",
       "stream": "stdout",
       "text": [
        "(144368, 94)\n",
        "Index([u'id', u'feat_1', u'feat_2', u'feat_3', u'feat_4', u'feat_5', u'feat_6', u'feat_7', u'feat_8', u'feat_9', u'feat_10', u'feat_11', u'feat_12', u'feat_13', u'feat_14', u'feat_15', u'feat_16', u'feat_17', u'feat_18', u'feat_19', u'feat_20', u'feat_21', u'feat_22', u'feat_23', u'feat_24', u'feat_25', u'feat_26', u'feat_27', u'feat_28', u'feat_29', u'feat_30', u'feat_31', u'feat_32', u'feat_33', u'feat_34', u'feat_35', u'feat_36', u'feat_37', u'feat_38', u'feat_39', u'feat_40', u'feat_41', u'feat_42', u'feat_43', u'feat_44', u'feat_45', u'feat_46', u'feat_47', u'feat_48', u'feat_49', u'feat_50', u'feat_51', u'feat_52', u'feat_53', u'feat_54', u'feat_55', u'feat_56', u'feat_57', u'feat_58', u'feat_59', u'feat_60', u'feat_61', u'feat_62', u'feat_63', u'feat_64', u'feat_65', u'feat_66', u'feat_67', u'feat_68', u'feat_69', u'feat_70', u'feat_71', u'feat_72', u'feat_73', u'feat_74', u'feat_75', u'feat_76', u'feat_77', u'feat_78', u'feat_79', u'feat_80', u'feat_81', u'feat_82', u'feat_83', u'feat_84', u'feat_85', u'feat_86', u'feat_87', u'feat_88', u'feat_89', u'feat_90', u'feat_91', u'feat_92', u'feat_93'], dtype='object')\n",
        "(144368,)\n",
        "(144368, 93)"
       ]
      },
      {
       "output_type": "stream",
       "stream": "stdout",
       "text": [
        "\n",
        "(144368, 9)"
       ]
      },
      {
       "output_type": "stream",
       "stream": "stdout",
       "text": [
        "\n",
        "[  1.22116298e-06   1.69554175e-09   4.67866667e-13   1.79464289e-12\n",
        "   2.04539878e-10   9.27291502e-01   6.51495737e-11   7.27055266e-02\n",
        "   1.74793090e-06]\n"
       ]
      }
     ],
     "prompt_number": 37
    },
    {
     "cell_type": "code",
     "collapsed": false,
     "input": [],
     "language": "python",
     "metadata": {},
     "outputs": []
    }
   ],
   "metadata": {}
  }
 ]
}